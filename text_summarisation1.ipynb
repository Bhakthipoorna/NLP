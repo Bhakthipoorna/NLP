{
  "nbformat": 4,
  "nbformat_minor": 0,
  "metadata": {
    "colab": {
      "name": "text summarisation1.ipynb",
      "provenance": [],
      "collapsed_sections": [],
      "authorship_tag": "ABX9TyPTwgU1U9x6zOVI7lwDCJ/1",
      "include_colab_link": true
    },
    "kernelspec": {
      "name": "python3",
      "display_name": "Python 3"
    },
    "language_info": {
      "name": "python"
    }
  },
  "cells": [
    {
      "cell_type": "markdown",
      "metadata": {
        "id": "view-in-github",
        "colab_type": "text"
      },
      "source": [
        "<a href=\"https://colab.research.google.com/github/Bhakthipoorna/NLP/blob/main/text_summarisation1.ipynb\" target=\"_parent\"><img src=\"https://colab.research.google.com/assets/colab-badge.svg\" alt=\"Open In Colab\"/></a>"
      ]
    },
    {
      "cell_type": "code",
      "metadata": {
        "id": "sl8Z5lLGJ6Q8"
      },
      "source": [
        "# import the gensim module and summarize function\n",
        "from gensim.summarization.summarizer import summarize \n",
        "\n",
        "# Paragraph\n",
        "paragraph = \"Natural language processing (NLP) is the ability of a computer program to understand human language as it is spoken. NLP is a component of artificial intelligence (AI). The development of NLP applications is challenging because computers traditionally require humans to 'speak' to them in a programming language that is precise, unambiguous and highly structured, or through a limited number of clearly enunciated voice commands. Human speech, however, is not always precise -- it is often ambiguous and the linguistic structure can depend on many complex variables, including slang, regional dialects and social context.\""
      ],
      "execution_count": 2,
      "outputs": []
    },
    {
      "cell_type": "code",
      "metadata": {
        "colab": {
          "base_uri": "https://localhost:8080/"
        },
        "id": "c_4cduJfLFCf",
        "outputId": "f69943b9-57d9-4418-ae41-f9165d8879cc"
      },
      "source": [
        "# Get the Summary of the text based on percentage (0.5% of the original content). \n",
        "summ_per = summarize(paragraph, ratio = 0.4) \n",
        "print(\"Percent summary:\") \n",
        "print(summ_per) "
      ],
      "execution_count": 3,
      "outputs": [
        {
          "output_type": "stream",
          "text": [
            "Percent summary:\n",
            "Natural language processing (NLP) is the ability of a computer program to understand human language as it is spoken.\n"
          ],
          "name": "stdout"
        }
      ]
    },
    {
      "cell_type": "code",
      "metadata": {
        "colab": {
          "base_uri": "https://localhost:8080/"
        },
        "id": "LFInLhhUKiQT",
        "outputId": "be1cae38-e1cd-4cf5-8773-8ca303c9b88a"
      },
      "source": [
        "# Get the summary of the text based on number of words (50 words) \n",
        "summ_words = summarize(paragraph, word_count = 50) \n",
        "print(\"\\n\")\n",
        "print(\"Word count summary:\") \n",
        "print(summ_words) "
      ],
      "execution_count": 4,
      "outputs": [
        {
          "output_type": "stream",
          "text": [
            "\n",
            "\n",
            "Word count summary:\n",
            "Natural language processing (NLP) is the ability of a computer program to understand human language as it is spoken.\n",
            "The development of NLP applications is challenging because computers traditionally require humans to 'speak' to them in a programming language that is precise, unambiguous and highly structured, or through a limited number of clearly enunciated voice commands.\n"
          ],
          "name": "stdout"
        }
      ]
    },
    {
      "cell_type": "code",
      "metadata": {
        "colab": {
          "base_uri": "https://localhost:8080/"
        },
        "id": "eXVhWLaYLSIu",
        "outputId": "75dde2c8-75a2-444a-c086-9f732fb48e8c"
      },
      "source": [
        "# Get the summary of the text based on number of words (50 words) \n",
        "summ_words1 = summarize(paragraph, word_count = 100) \n",
        "print(\"\\n\")\n",
        "print(\"Word count summary:\") \n",
        "print(summ_words1) "
      ],
      "execution_count": 11,
      "outputs": [
        {
          "output_type": "stream",
          "text": [
            "\n",
            "\n",
            "Word count summary:\n",
            "Natural language processing (NLP) is the ability of a computer program to understand human language as it is spoken.\n",
            "NLP is a component of artificial intelligence (AI).\n",
            "The development of NLP applications is challenging because computers traditionally require humans to 'speak' to them in a programming language that is precise, unambiguous and highly structured, or through a limited number of clearly enunciated voice commands.\n",
            "Human speech, however, is not always precise -- it is often ambiguous and the linguistic structure can depend on many complex variables, including slang, regional dialects and social context.\n"
          ],
          "name": "stdout"
        }
      ]
    },
    {
      "cell_type": "code",
      "metadata": {
        "id": "VlOWWFX7LjOj"
      },
      "source": [
        ""
      ],
      "execution_count": null,
      "outputs": []
    }
  ]
}